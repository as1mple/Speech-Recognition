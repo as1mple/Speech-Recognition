{
  "nbformat": 4,
  "nbformat_minor": 0,
  "metadata": {
    "colab": {
      "provenance": []
    },
    "kernelspec": {
      "name": "python3",
      "display_name": "Python 3"
    },
    "language_info": {
      "name": "python"
    }
  },
  "cells": [
    {
      "cell_type": "code",
      "execution_count": null,
      "metadata": {
        "id": "wXnP0lkeyKVj"
      },
      "outputs": [],
      "source": [
        "! pip install ffmpeg"
      ]
    },
    {
      "cell_type": "code",
      "source": [
        "import os\n",
        "from tqdm import tqdm\n",
        "\n",
        "from google.colab import drive"
      ],
      "metadata": {
        "id": "dy332YrKy2of"
      },
      "execution_count": null,
      "outputs": []
    },
    {
      "cell_type": "code",
      "source": [
        "drive.mount('/content/gdrive')\n",
        "cd /content/gdrive/MyDrive/DS/data/DS/dataset/resampling"
      ],
      "metadata": {
        "id": "296jYVNFz6j7"
      },
      "execution_count": 2,
      "outputs": []
    },
    {
      "cell_type": "code",
      "source": [
        "import subprocess\n",
        "\n",
        "def convert_to_wav(input_file_path, output_file_path):\n",
        "    command = ['ffmpeg', '-i', input_file_path, '-vn', '-acodec', 'pcm_s16le', '-ac', '2', '-ar', '44100', output_file_path]\n",
        "\n",
        "    subprocess.run(command, check=True)\n",
        "    print(f'File has been converted to WAV and saved as {output_file_path}')"
      ],
      "metadata": {
        "id": "TvEgLn33y2s-"
      },
      "execution_count": 1,
      "outputs": []
    },
    {
      "cell_type": "code",
      "source": [
        "convert_to_wav(\n",
        "  \"/content/gdrive/MyDrive/DS/data/DS/dataset/resample-data/Нарізані аудіофайли/339156559/777.1.mp3\",\n",
        "  \"/content/gdrive/MyDrive/DS/data/DS/dataset/tmp/res.wav\"\n",
        ")"
      ],
      "metadata": {
        "id": "dBQSvevSzPgj"
      },
      "execution_count": null,
      "outputs": []
    },
    {
      "cell_type": "code",
      "source": [
        "# subprocess.call(['ffmpeg', '-i', \"/content/gdrive/MyDrive/DS/data/DS/dataset/resample-data/Нарізані аудіофайли/339156559/777.1.mp3\", 'audio.wav'])"
      ],
      "metadata": {
        "id": "EEMkobOj0Dkw"
      },
      "execution_count": null,
      "outputs": []
    },
    {
      "cell_type": "code",
      "source": [
        "folder_path = \"/content/gdrive/MyDrive/DS/data/DS/dataset/resample-data/Нарізані аудіофайли/345783892\"\n",
        "to_folder_data = \"/content/gdrive/MyDrive/DS/data/Structured Audio Segments/345783892\""
      ],
      "metadata": {
        "id": "iMdQUcbfzbLS"
      },
      "execution_count": null,
      "outputs": []
    },
    {
      "cell_type": "code",
      "source": [
        "files = [i for i in os.listdir(folder_path) if not i.endswith(\".wav\")]"
      ],
      "metadata": {
        "id": "vs8N1Pwyzc7Q"
      },
      "execution_count": null,
      "outputs": []
    },
    {
      "cell_type": "code",
      "source": [
        "for file in tqdm(files):\n",
        "  name, format = os.path.splitext(file)\n",
        "  try:\n",
        "    convert_to_wav(f\"{folder_path}/{file}\", f\"{to_folder_data}/{name}.wav\")\n",
        "  except:\n",
        "    print(file)"
      ],
      "metadata": {
        "id": "kPT46sjxzr7t"
      },
      "execution_count": null,
      "outputs": []
    }
  ]
}